{
 "cells": [
  {
   "cell_type": "markdown",
   "id": "4d28665a-d848-4a92-afdd-0ba4e2cac214",
   "metadata": {},
   "source": [
    "                                                      TRAVELERS  DATASET "
   ]
  },
  {
   "cell_type": "markdown",
   "id": "787152c2-fab6-4df2-99b7-006f1818814f",
   "metadata": {},
   "source": [
    "> OBJECTIVE >> CLEANING THE DATASET AND ELIMINATING ANY INCONSISTENCIES or INCORRECT DATA FORMAT . ALSO CARRYING OUT EXPLORATORY DATA ANALYSIS & DATA VISUALIZATION.\n",
    "             "
   ]
  },
  {
   "cell_type": "markdown",
   "id": "56a1584f-b47f-4efa-a8b1-3b64b81d9771",
   "metadata": {},
   "source": [
    ">>>TABLE OF CONTENTS : \n",
    "    \n",
    "                    1. IMPORTING DATASET & EXPLORING IT .\n",
    "                    2. FIXING THE DATATYPE OF COLUMNS & INCONSISTENCIES IN DATA FORMAT\n",
    "                    3. FEATURE ENGINEERING .\n",
    "                    4. EXPLORATORY DATA ANALYSIS \n",
    "                    5. DATA INSIGHTS & SUMMARY"
   ]
  },
  {
   "cell_type": "markdown",
   "id": "8052139f-3aa5-46a5-842c-10802af0f771",
   "metadata": {},
   "source": [
    "> 1. IMPORTING DATASET & EXPLORING IT."
   ]
  },
  {
   "cell_type": "code",
   "execution_count": 2,
   "id": "28a7015c-1fb3-46fc-aba6-91e67b8140e5",
   "metadata": {},
   "outputs": [],
   "source": [
    "# IMPORTING NECCESSARY LIBRARIES \n",
    "\n",
    "import numpy as np\n",
    "import pandas as pd\n",
    "import seaborn as sns\n",
    "import matplotlib.pyplot as plt "
   ]
  },
  {
   "cell_type": "code",
   "execution_count": 3,
   "id": "42f32ca1-78b3-473a-a5ac-0aa8bb12268c",
   "metadata": {},
   "outputs": [
    {
     "data": {
      "text/html": [
       "<div>\n",
       "<style scoped>\n",
       "    .dataframe tbody tr th:only-of-type {\n",
       "        vertical-align: middle;\n",
       "    }\n",
       "\n",
       "    .dataframe tbody tr th {\n",
       "        vertical-align: top;\n",
       "    }\n",
       "\n",
       "    .dataframe thead th {\n",
       "        text-align: right;\n",
       "    }\n",
       "</style>\n",
       "<table border=\"1\" class=\"dataframe\">\n",
       "  <thead>\n",
       "    <tr style=\"text-align: right;\">\n",
       "      <th></th>\n",
       "      <th>Trip ID</th>\n",
       "      <th>Destination</th>\n",
       "      <th>Start date</th>\n",
       "      <th>End date</th>\n",
       "      <th>Duration (days)</th>\n",
       "      <th>Traveler name</th>\n",
       "      <th>Traveler age</th>\n",
       "      <th>Traveler gender</th>\n",
       "      <th>Traveler nationality</th>\n",
       "      <th>Accommodation type</th>\n",
       "      <th>Accommodation cost</th>\n",
       "      <th>Transportation type</th>\n",
       "      <th>Transportation cost</th>\n",
       "    </tr>\n",
       "  </thead>\n",
       "  <tbody>\n",
       "    <tr>\n",
       "      <th>0</th>\n",
       "      <td>1</td>\n",
       "      <td>London, UK</td>\n",
       "      <td>5/1/2023</td>\n",
       "      <td>5/8/2023</td>\n",
       "      <td>7.0</td>\n",
       "      <td>John Smith</td>\n",
       "      <td>35.0</td>\n",
       "      <td>Male</td>\n",
       "      <td>American</td>\n",
       "      <td>Hotel</td>\n",
       "      <td>1200</td>\n",
       "      <td>Flight</td>\n",
       "      <td>600</td>\n",
       "    </tr>\n",
       "    <tr>\n",
       "      <th>1</th>\n",
       "      <td>2</td>\n",
       "      <td>Phuket, Thailand</td>\n",
       "      <td>6/15/2023</td>\n",
       "      <td>6/20/2023</td>\n",
       "      <td>5.0</td>\n",
       "      <td>Jane Doe</td>\n",
       "      <td>28.0</td>\n",
       "      <td>Female</td>\n",
       "      <td>Canadian</td>\n",
       "      <td>Resort</td>\n",
       "      <td>800</td>\n",
       "      <td>Flight</td>\n",
       "      <td>500</td>\n",
       "    </tr>\n",
       "    <tr>\n",
       "      <th>2</th>\n",
       "      <td>3</td>\n",
       "      <td>Bali, Indonesia</td>\n",
       "      <td>7/1/2023</td>\n",
       "      <td>7/8/2023</td>\n",
       "      <td>7.0</td>\n",
       "      <td>David Lee</td>\n",
       "      <td>45.0</td>\n",
       "      <td>Male</td>\n",
       "      <td>Korean</td>\n",
       "      <td>Villa</td>\n",
       "      <td>1000</td>\n",
       "      <td>Flight</td>\n",
       "      <td>700</td>\n",
       "    </tr>\n",
       "  </tbody>\n",
       "</table>\n",
       "</div>"
      ],
      "text/plain": [
       "   Trip ID       Destination Start date   End date  Duration (days)  \\\n",
       "0        1        London, UK   5/1/2023   5/8/2023              7.0   \n",
       "1        2  Phuket, Thailand  6/15/2023  6/20/2023              5.0   \n",
       "2        3   Bali, Indonesia   7/1/2023   7/8/2023              7.0   \n",
       "\n",
       "  Traveler name  Traveler age Traveler gender Traveler nationality  \\\n",
       "0    John Smith          35.0            Male             American   \n",
       "1      Jane Doe          28.0          Female             Canadian   \n",
       "2     David Lee          45.0            Male               Korean   \n",
       "\n",
       "  Accommodation type Accommodation cost Transportation type  \\\n",
       "0              Hotel               1200              Flight   \n",
       "1             Resort                800              Flight   \n",
       "2              Villa               1000              Flight   \n",
       "\n",
       "  Transportation cost  \n",
       "0                 600  \n",
       "1                 500  \n",
       "2                 700  "
      ]
     },
     "execution_count": 3,
     "metadata": {},
     "output_type": "execute_result"
    }
   ],
   "source": [
    "# READING THE DATASET \n",
    "\n",
    "df = pd.read_csv('traveler-trip-data/Travel details dataset.csv')\n",
    "df.head(3)"
   ]
  },
  {
   "cell_type": "code",
   "execution_count": 4,
   "id": "81426f18-9261-4796-b43f-254c093c7f3a",
   "metadata": {},
   "outputs": [
    {
     "data": {
      "text/html": [
       "<div>\n",
       "<style scoped>\n",
       "    .dataframe tbody tr th:only-of-type {\n",
       "        vertical-align: middle;\n",
       "    }\n",
       "\n",
       "    .dataframe tbody tr th {\n",
       "        vertical-align: top;\n",
       "    }\n",
       "\n",
       "    .dataframe thead th {\n",
       "        text-align: right;\n",
       "    }\n",
       "</style>\n",
       "<table border=\"1\" class=\"dataframe\">\n",
       "  <thead>\n",
       "    <tr style=\"text-align: right;\">\n",
       "      <th></th>\n",
       "      <th>Trip ID</th>\n",
       "      <th>Duration (days)</th>\n",
       "      <th>Traveler age</th>\n",
       "    </tr>\n",
       "  </thead>\n",
       "  <tbody>\n",
       "    <tr>\n",
       "      <th>count</th>\n",
       "      <td>139.000000</td>\n",
       "      <td>137.000000</td>\n",
       "      <td>137.000000</td>\n",
       "    </tr>\n",
       "    <tr>\n",
       "      <th>mean</th>\n",
       "      <td>70.000000</td>\n",
       "      <td>7.605839</td>\n",
       "      <td>33.175182</td>\n",
       "    </tr>\n",
       "    <tr>\n",
       "      <th>std</th>\n",
       "      <td>40.269923</td>\n",
       "      <td>1.601276</td>\n",
       "      <td>7.145441</td>\n",
       "    </tr>\n",
       "    <tr>\n",
       "      <th>min</th>\n",
       "      <td>1.000000</td>\n",
       "      <td>5.000000</td>\n",
       "      <td>20.000000</td>\n",
       "    </tr>\n",
       "    <tr>\n",
       "      <th>25%</th>\n",
       "      <td>35.500000</td>\n",
       "      <td>7.000000</td>\n",
       "      <td>28.000000</td>\n",
       "    </tr>\n",
       "    <tr>\n",
       "      <th>50%</th>\n",
       "      <td>70.000000</td>\n",
       "      <td>7.000000</td>\n",
       "      <td>31.000000</td>\n",
       "    </tr>\n",
       "    <tr>\n",
       "      <th>75%</th>\n",
       "      <td>104.500000</td>\n",
       "      <td>8.000000</td>\n",
       "      <td>38.000000</td>\n",
       "    </tr>\n",
       "    <tr>\n",
       "      <th>max</th>\n",
       "      <td>139.000000</td>\n",
       "      <td>14.000000</td>\n",
       "      <td>60.000000</td>\n",
       "    </tr>\n",
       "  </tbody>\n",
       "</table>\n",
       "</div>"
      ],
      "text/plain": [
       "          Trip ID  Duration (days)  Traveler age\n",
       "count  139.000000       137.000000    137.000000\n",
       "mean    70.000000         7.605839     33.175182\n",
       "std     40.269923         1.601276      7.145441\n",
       "min      1.000000         5.000000     20.000000\n",
       "25%     35.500000         7.000000     28.000000\n",
       "50%     70.000000         7.000000     31.000000\n",
       "75%    104.500000         8.000000     38.000000\n",
       "max    139.000000        14.000000     60.000000"
      ]
     },
     "execution_count": 4,
     "metadata": {},
     "output_type": "execute_result"
    }
   ],
   "source": [
    "df.describe()"
   ]
  },
  {
   "cell_type": "code",
   "execution_count": 5,
   "id": "23598599-a574-4240-833d-0ec4d0274c3a",
   "metadata": {},
   "outputs": [
    {
     "name": "stdout",
     "output_type": "stream",
     "text": [
      "<class 'pandas.core.frame.DataFrame'>\n",
      "RangeIndex: 139 entries, 0 to 138\n",
      "Data columns (total 13 columns):\n",
      " #   Column                Non-Null Count  Dtype  \n",
      "---  ------                --------------  -----  \n",
      " 0   Trip ID               139 non-null    int64  \n",
      " 1   Destination           137 non-null    object \n",
      " 2   Start date            137 non-null    object \n",
      " 3   End date              137 non-null    object \n",
      " 4   Duration (days)       137 non-null    float64\n",
      " 5   Traveler name         137 non-null    object \n",
      " 6   Traveler age          137 non-null    float64\n",
      " 7   Traveler gender       137 non-null    object \n",
      " 8   Traveler nationality  137 non-null    object \n",
      " 9   Accommodation type    137 non-null    object \n",
      " 10  Accommodation cost    137 non-null    object \n",
      " 11  Transportation type   136 non-null    object \n",
      " 12  Transportation cost   136 non-null    object \n",
      "dtypes: float64(2), int64(1), object(10)\n",
      "memory usage: 14.2+ KB\n"
     ]
    }
   ],
   "source": [
    "df.info()"
   ]
  },
  {
   "cell_type": "code",
   "execution_count": 6,
   "id": "3aa63fc1-dfde-469c-869a-44047b53e9aa",
   "metadata": {},
   "outputs": [
    {
     "data": {
      "text/html": [
       "<div>\n",
       "<style scoped>\n",
       "    .dataframe tbody tr th:only-of-type {\n",
       "        vertical-align: middle;\n",
       "    }\n",
       "\n",
       "    .dataframe tbody tr th {\n",
       "        vertical-align: top;\n",
       "    }\n",
       "\n",
       "    .dataframe thead th {\n",
       "        text-align: right;\n",
       "    }\n",
       "</style>\n",
       "<table border=\"1\" class=\"dataframe\">\n",
       "  <thead>\n",
       "    <tr style=\"text-align: right;\">\n",
       "      <th></th>\n",
       "      <th>TOTAL</th>\n",
       "      <th>PERCENTAGE</th>\n",
       "    </tr>\n",
       "  </thead>\n",
       "  <tbody>\n",
       "    <tr>\n",
       "      <th>Transportation type</th>\n",
       "      <td>3.0</td>\n",
       "      <td>2.158273</td>\n",
       "    </tr>\n",
       "    <tr>\n",
       "      <th>Transportation cost</th>\n",
       "      <td>3.0</td>\n",
       "      <td>2.158273</td>\n",
       "    </tr>\n",
       "    <tr>\n",
       "      <th>Destination</th>\n",
       "      <td>2.0</td>\n",
       "      <td>1.438849</td>\n",
       "    </tr>\n",
       "    <tr>\n",
       "      <th>Start date</th>\n",
       "      <td>2.0</td>\n",
       "      <td>1.438849</td>\n",
       "    </tr>\n",
       "    <tr>\n",
       "      <th>End date</th>\n",
       "      <td>2.0</td>\n",
       "      <td>1.438849</td>\n",
       "    </tr>\n",
       "    <tr>\n",
       "      <th>Duration (days)</th>\n",
       "      <td>2.0</td>\n",
       "      <td>1.438849</td>\n",
       "    </tr>\n",
       "    <tr>\n",
       "      <th>Traveler name</th>\n",
       "      <td>2.0</td>\n",
       "      <td>1.438849</td>\n",
       "    </tr>\n",
       "    <tr>\n",
       "      <th>Traveler age</th>\n",
       "      <td>2.0</td>\n",
       "      <td>1.438849</td>\n",
       "    </tr>\n",
       "    <tr>\n",
       "      <th>Traveler gender</th>\n",
       "      <td>2.0</td>\n",
       "      <td>1.438849</td>\n",
       "    </tr>\n",
       "    <tr>\n",
       "      <th>Traveler nationality</th>\n",
       "      <td>2.0</td>\n",
       "      <td>1.438849</td>\n",
       "    </tr>\n",
       "    <tr>\n",
       "      <th>Accommodation type</th>\n",
       "      <td>2.0</td>\n",
       "      <td>1.438849</td>\n",
       "    </tr>\n",
       "    <tr>\n",
       "      <th>Accommodation cost</th>\n",
       "      <td>2.0</td>\n",
       "      <td>1.438849</td>\n",
       "    </tr>\n",
       "    <tr>\n",
       "      <th>Trip ID</th>\n",
       "      <td>NaN</td>\n",
       "      <td>NaN</td>\n",
       "    </tr>\n",
       "  </tbody>\n",
       "</table>\n",
       "</div>"
      ],
      "text/plain": [
       "                      TOTAL  PERCENTAGE\n",
       "Transportation type     3.0    2.158273\n",
       "Transportation cost     3.0    2.158273\n",
       "Destination             2.0    1.438849\n",
       "Start date              2.0    1.438849\n",
       "End date                2.0    1.438849\n",
       "Duration (days)         2.0    1.438849\n",
       "Traveler name           2.0    1.438849\n",
       "Traveler age            2.0    1.438849\n",
       "Traveler gender         2.0    1.438849\n",
       "Traveler nationality    2.0    1.438849\n",
       "Accommodation type      2.0    1.438849\n",
       "Accommodation cost      2.0    1.438849\n",
       "Trip ID                 NaN         NaN"
      ]
     },
     "execution_count": 6,
     "metadata": {},
     "output_type": "execute_result"
    }
   ],
   "source": [
    "#CHECKING FOR MISSING VALUES \n",
    "\n",
    "def missing_values(df):\n",
    "    \n",
    "    total = df.isnull().sum().sort_values(ascending = False)\n",
    "    percent = (total / len(df)) * 100\n",
    "    return pd.concat((total , percent) , axis = 1 , keys = ['TOTAL' , 'PERCENTAGE'])\n",
    "\n",
    "miss_values  = missing_values(df)\n",
    "miss_values[miss_values != 0]"
   ]
  },
  {
   "cell_type": "code",
   "execution_count": 7,
   "id": "4e1d68bb-40fc-4edd-aeeb-5f22450a25b6",
   "metadata": {},
   "outputs": [],
   "source": [
    "# REMOVING NULL VALUES \n",
    "\n",
    "df.dropna(axis = 'rows' , inplace = True)"
   ]
  },
  {
   "cell_type": "markdown",
   "id": "3e791a38-7203-482f-8157-893c6d1fa172",
   "metadata": {},
   "source": [
    ">> 2. FIXING THE DATA TYPE OF THE COLUMNS ."
   ]
  },
  {
   "cell_type": "code",
   "execution_count": 8,
   "id": "e100b565-33fb-4245-b1fe-9199f52c7ab4",
   "metadata": {},
   "outputs": [
    {
     "name": "stdout",
     "output_type": "stream",
     "text": [
      "<class 'pandas.core.frame.DataFrame'>\n",
      "Int64Index: 136 entries, 0 to 138\n",
      "Data columns (total 13 columns):\n",
      " #   Column                Non-Null Count  Dtype  \n",
      "---  ------                --------------  -----  \n",
      " 0   Trip ID               136 non-null    int64  \n",
      " 1   Destination           136 non-null    object \n",
      " 2   Start date            136 non-null    object \n",
      " 3   End date              136 non-null    object \n",
      " 4   Duration (days)       136 non-null    float64\n",
      " 5   Traveler name         136 non-null    object \n",
      " 6   Traveler age          136 non-null    float64\n",
      " 7   Traveler gender       136 non-null    object \n",
      " 8   Traveler nationality  136 non-null    object \n",
      " 9   Accommodation type    136 non-null    object \n",
      " 10  Accommodation cost    136 non-null    object \n",
      " 11  Transportation type   136 non-null    object \n",
      " 12  Transportation cost   136 non-null    object \n",
      "dtypes: float64(2), int64(1), object(10)\n",
      "memory usage: 14.9+ KB\n"
     ]
    }
   ],
   "source": [
    "df.info()"
   ]
  },
  {
   "cell_type": "markdown",
   "id": "9e123cf0-96d7-4182-8e57-3c45aaf327cf",
   "metadata": {},
   "source": [
    ">2.1 Start date & End date"
   ]
  },
  {
   "cell_type": "code",
   "execution_count": 9,
   "id": "504a94c2-1de8-4392-ab69-d0b2a043334b",
   "metadata": {},
   "outputs": [],
   "source": [
    "df['Start date'] = pd.to_datetime(df['Start date'])\n",
    "df['End date'] = pd.to_datetime(df['End date'])"
   ]
  },
  {
   "cell_type": "code",
   "execution_count": 10,
   "id": "a2ed99b6-eaed-4b86-b491-b165c10f60b2",
   "metadata": {},
   "outputs": [
    {
     "name": "stdout",
     "output_type": "stream",
     "text": [
      "<class 'pandas.core.frame.DataFrame'>\n",
      "Int64Index: 136 entries, 0 to 138\n",
      "Data columns (total 13 columns):\n",
      " #   Column                Non-Null Count  Dtype         \n",
      "---  ------                --------------  -----         \n",
      " 0   Trip ID               136 non-null    int64         \n",
      " 1   Destination           136 non-null    object        \n",
      " 2   Start date            136 non-null    datetime64[ns]\n",
      " 3   End date              136 non-null    datetime64[ns]\n",
      " 4   Duration (days)       136 non-null    float64       \n",
      " 5   Traveler name         136 non-null    object        \n",
      " 6   Traveler age          136 non-null    float64       \n",
      " 7   Traveler gender       136 non-null    object        \n",
      " 8   Traveler nationality  136 non-null    object        \n",
      " 9   Accommodation type    136 non-null    object        \n",
      " 10  Accommodation cost    136 non-null    object        \n",
      " 11  Transportation type   136 non-null    object        \n",
      " 12  Transportation cost   136 non-null    object        \n",
      "dtypes: datetime64[ns](2), float64(2), int64(1), object(8)\n",
      "memory usage: 14.9+ KB\n"
     ]
    }
   ],
   "source": [
    "df.info()"
   ]
  },
  {
   "cell_type": "markdown",
   "id": "2c401680-37a3-400a-bce4-198e8a07a957",
   "metadata": {},
   "source": [
    ">2.2 Accommodation cost"
   ]
  },
  {
   "cell_type": "markdown",
   "id": "6c2e3ee5-567d-4c58-ae23-8e893dc7c4af",
   "metadata": {},
   "source": [
    "WE CAN SEE THERE ARE MANY INCONSISTENCIES IN THE DATA , SO WE NEED TO FIRST FIX THE DATA FORMAT AND THEN CHANGE THE DATA TYPE "
   ]
  },
  {
   "cell_type": "code",
   "execution_count": 11,
   "id": "b92f552a-5633-486f-817e-103f9f8eca17",
   "metadata": {},
   "outputs": [
    {
     "data": {
      "text/plain": [
       "16       $900 \n",
       "17     $1,500 \n",
       "18     $1,200 \n",
       "19     $1,200 \n",
       "20       $600 \n",
       "21     $1,000 \n",
       "22       $700 \n",
       "23       $400 \n",
       "24     $1,400 \n",
       "25     $2,000 \n",
       "26     $1,100 \n",
       "27       $800 \n",
       "28       $200 \n",
       "29       $600 \n",
       "30     $1,000 \n",
       "31       $150 \n",
       "32       $400 \n",
       "33       $700 \n",
       "34       $500 \n",
       "35       $180 \n",
       "36       $900 \n",
       "37       $350 \n",
       "49     $1,200 \n",
       "50       $500 \n",
       "51       $900 \n",
       "52     $1,400 \n",
       "53       $800 \n",
       "54       $400 \n",
       "55     $1,000 \n",
       "56       $700 \n",
       "57       $500 \n",
       "58     $1,200 \n",
       "59       $800 \n",
       "94       $500 \n",
       "95       $400 \n",
       "96       $200 \n",
       "97       $600 \n",
       "98       $800 \n",
       "99       $700 \n",
       "100      $300 \n",
       "101      $500 \n",
       "102      $900 \n",
       "103    $1,200 \n",
       "104      $600 \n",
       "Name: Accommodation cost, dtype: object"
      ]
     },
     "execution_count": 11,
     "metadata": {},
     "output_type": "execute_result"
    }
   ],
   "source": [
    "df.loc[df['Accommodation cost'].str.startswith('$' , na = False) , 'Accommodation cost']"
   ]
  },
  {
   "cell_type": "markdown",
   "id": "d4a47963-991c-460c-81e5-5e63b8fc0264",
   "metadata": {},
   "source": [
    "> FIXING THE DATA FORMAT OF THE COLUMN ."
   ]
  },
  {
   "cell_type": "code",
   "execution_count": 12,
   "id": "c799aece-c763-47af-b325-57c4ce2393d0",
   "metadata": {},
   "outputs": [
    {
     "name": "stderr",
     "output_type": "stream",
     "text": [
      "/tmp/ipykernel_80/48581986.py:3: FutureWarning: The default value of regex will change from True to False in a future version. In addition, single character regular expressions will *not* be treated as literal strings when regex=True.\n",
      "  df.loc[df['Accommodation cost'].str.startswith('$' , na = False) , 'Accommodation cost'] = df.loc[df['Accommodation cost'].str.startswith('$' , na = False) , 'Accommodation cost'].str.replace('$', '')\n"
     ]
    }
   ],
   "source": [
    "#removing the value'$' from the data \n",
    "\n",
    "df.loc[df['Accommodation cost'].str.startswith('$' , na = False) , 'Accommodation cost'] = df.loc[df['Accommodation cost'].str.startswith('$' , na = False) , 'Accommodation cost'].str.replace('$', '')"
   ]
  },
  {
   "cell_type": "code",
   "execution_count": 13,
   "id": "810755a9-1ded-4b7d-b1a1-48b4c484808b",
   "metadata": {},
   "outputs": [],
   "source": [
    "#replacing the value '1,' with 1\n",
    "df.loc[df['Accommodation cost'].str.startswith('1,' , na = False) , 'Accommodation cost'] = df.loc[df['Accommodation cost'].str.startswith('1,', na = False) , 'Accommodation cost'].str.replace('1,' , '1')"
   ]
  },
  {
   "cell_type": "code",
   "execution_count": 14,
   "id": "a23def77-67a1-4b54-b880-1147d4b72167",
   "metadata": {},
   "outputs": [],
   "source": [
    "#replacing the value '2,' with 2 \n",
    "df.loc[df['Accommodation cost'].str.startswith('2,' , na = False) , 'Accommodation cost'] = df.loc[df['Accommodation cost'].str.startswith('2,' , na = False) , 'Accommodation cost'].str.replace('2,','2')"
   ]
  },
  {
   "cell_type": "code",
   "execution_count": 15,
   "id": "58562e8e-3416-4931-9e94-3c51537138cb",
   "metadata": {},
   "outputs": [],
   "source": [
    "#removing 'USD' from the numeric values\n",
    "df.loc[df['Accommodation cost'].str.contains('USD', na = False) , 'Accommodation cost'] = df.loc[df['Accommodation cost'].str.contains('USD', na = False) , 'Accommodation cost'].str.replace('USD', '') "
   ]
  },
  {
   "cell_type": "code",
   "execution_count": 16,
   "id": "f1b311e4-9092-409d-8ff6-b4a399c4ede5",
   "metadata": {},
   "outputs": [],
   "source": [
    "df['Accommodation cost'] = pd.to_numeric(df['Accommodation cost'])"
   ]
  },
  {
   "cell_type": "code",
   "execution_count": 17,
   "id": "902856a1-a98d-4033-a8b0-ec31753e7163",
   "metadata": {},
   "outputs": [
    {
     "name": "stdout",
     "output_type": "stream",
     "text": [
      "<class 'pandas.core.frame.DataFrame'>\n",
      "Int64Index: 136 entries, 0 to 138\n",
      "Data columns (total 13 columns):\n",
      " #   Column                Non-Null Count  Dtype         \n",
      "---  ------                --------------  -----         \n",
      " 0   Trip ID               136 non-null    int64         \n",
      " 1   Destination           136 non-null    object        \n",
      " 2   Start date            136 non-null    datetime64[ns]\n",
      " 3   End date              136 non-null    datetime64[ns]\n",
      " 4   Duration (days)       136 non-null    float64       \n",
      " 5   Traveler name         136 non-null    object        \n",
      " 6   Traveler age          136 non-null    float64       \n",
      " 7   Traveler gender       136 non-null    object        \n",
      " 8   Traveler nationality  136 non-null    object        \n",
      " 9   Accommodation type    136 non-null    object        \n",
      " 10  Accommodation cost    136 non-null    int64         \n",
      " 11  Transportation type   136 non-null    object        \n",
      " 12  Transportation cost   136 non-null    object        \n",
      "dtypes: datetime64[ns](2), float64(2), int64(2), object(7)\n",
      "memory usage: 14.9+ KB\n"
     ]
    }
   ],
   "source": [
    "df.info()"
   ]
  },
  {
   "cell_type": "markdown",
   "id": "e0717eb1-1077-434b-a520-a2f695fc095b",
   "metadata": {},
   "source": [
    ">2.3 Transportation cost"
   ]
  },
  {
   "cell_type": "code",
   "execution_count": 18,
   "id": "ba0cdc7f-0191-4ff4-b2cb-93d2c3f25c67",
   "metadata": {},
   "outputs": [
    {
     "name": "stderr",
     "output_type": "stream",
     "text": [
      "/tmp/ipykernel_80/682433291.py:3: FutureWarning: The default value of regex will change from True to False in a future version. In addition, single character regular expressions will *not* be treated as literal strings when regex=True.\n",
      "  df.loc[df['Transportation cost'].str.startswith('$' , na = False) , 'Transportation cost'] = df.loc[df['Transportation cost'].str.startswith('$' , na = False) , 'Transportation cost'].str.replace('$', '')\n"
     ]
    }
   ],
   "source": [
    "#removing the value'$' from the data \n",
    "\n",
    "df.loc[df['Transportation cost'].str.startswith('$' , na = False) , 'Transportation cost'] = df.loc[df['Transportation cost'].str.startswith('$' , na = False) , 'Transportation cost'].str.replace('$', '')"
   ]
  },
  {
   "cell_type": "code",
   "execution_count": 19,
   "id": "c843af31-c49d-4503-a896-949cca4a23f8",
   "metadata": {},
   "outputs": [],
   "source": [
    "#replacing the value 'USD' with ''\n",
    "df.loc[df['Transportation cost'].str.contains('USD', na = False) , 'Transportation cost'] = df.loc[df['Transportation cost'].str.contains('USD', na = False) , 'Transportation cost'].str.replace('USD', '') "
   ]
  },
  {
   "cell_type": "code",
   "execution_count": 20,
   "id": "210c29f9-8d06-4ca2-b686-0ba37bf87f6b",
   "metadata": {},
   "outputs": [],
   "source": [
    "#replacing the value '1,' with 1\n",
    "df.loc[df['Transportation cost'].str.startswith('1,' , na = False) , 'Transportation cost'] = df.loc[df['Transportation cost'].str.startswith('1,', na = False) , 'Transportation cost'].str.replace('1,' , '1')"
   ]
  },
  {
   "cell_type": "code",
   "execution_count": 21,
   "id": "b6bfbb41-b4ae-4900-9429-216c86608fac",
   "metadata": {},
   "outputs": [],
   "source": [
    "df['Transportation cost'] = pd.to_numeric(df['Transportation cost'])"
   ]
  },
  {
   "cell_type": "code",
   "execution_count": 22,
   "id": "98494012-561e-40b7-9a53-62c6d8b2e142",
   "metadata": {},
   "outputs": [
    {
     "name": "stdout",
     "output_type": "stream",
     "text": [
      "<class 'pandas.core.frame.DataFrame'>\n",
      "Int64Index: 136 entries, 0 to 138\n",
      "Data columns (total 13 columns):\n",
      " #   Column                Non-Null Count  Dtype         \n",
      "---  ------                --------------  -----         \n",
      " 0   Trip ID               136 non-null    int64         \n",
      " 1   Destination           136 non-null    object        \n",
      " 2   Start date            136 non-null    datetime64[ns]\n",
      " 3   End date              136 non-null    datetime64[ns]\n",
      " 4   Duration (days)       136 non-null    float64       \n",
      " 5   Traveler name         136 non-null    object        \n",
      " 6   Traveler age          136 non-null    float64       \n",
      " 7   Traveler gender       136 non-null    object        \n",
      " 8   Traveler nationality  136 non-null    object        \n",
      " 9   Accommodation type    136 non-null    object        \n",
      " 10  Accommodation cost    136 non-null    int64         \n",
      " 11  Transportation type   136 non-null    object        \n",
      " 12  Transportation cost   136 non-null    int64         \n",
      "dtypes: datetime64[ns](2), float64(2), int64(3), object(6)\n",
      "memory usage: 14.9+ KB\n"
     ]
    }
   ],
   "source": [
    "df.info()"
   ]
  },
  {
   "cell_type": "markdown",
   "id": "bbcc8b4b-2520-4582-8e36-31b64f4eb1e3",
   "metadata": {},
   "source": [
    "                                            NOW ALL THE COLUMNS HAVE THE APPROPRIATE DATA-TYPES"
   ]
  },
  {
   "cell_type": "markdown",
   "id": "a25f2bd7-4509-4f5d-aa34-4f4f835ead0b",
   "metadata": {},
   "source": [
    ">> 3. FEATURE ENGINEERING "
   ]
  },
  {
   "cell_type": "markdown",
   "id": "e85f7d25-f449-4692-a667-79dca8316850",
   "metadata": {},
   "source": [
    ">3.1 SPLITTING  DESTINATION  COLUMN TO  DESTINATION COUNTRY & DESTINATION CITY."
   ]
  },
  {
   "cell_type": "code",
   "execution_count": 23,
   "id": "08a883ad-1409-41ac-b65f-291305862d3d",
   "metadata": {},
   "outputs": [
    {
     "data": {
      "text/html": [
       "<div>\n",
       "<style scoped>\n",
       "    .dataframe tbody tr th:only-of-type {\n",
       "        vertical-align: middle;\n",
       "    }\n",
       "\n",
       "    .dataframe tbody tr th {\n",
       "        vertical-align: top;\n",
       "    }\n",
       "\n",
       "    .dataframe thead th {\n",
       "        text-align: right;\n",
       "    }\n",
       "</style>\n",
       "<table border=\"1\" class=\"dataframe\">\n",
       "  <thead>\n",
       "    <tr style=\"text-align: right;\">\n",
       "      <th></th>\n",
       "      <th>Trip ID</th>\n",
       "      <th>Destination</th>\n",
       "      <th>Start date</th>\n",
       "      <th>End date</th>\n",
       "      <th>Duration (days)</th>\n",
       "      <th>Traveler name</th>\n",
       "      <th>Traveler age</th>\n",
       "      <th>Traveler gender</th>\n",
       "      <th>Traveler nationality</th>\n",
       "      <th>Accommodation type</th>\n",
       "      <th>Accommodation cost</th>\n",
       "      <th>Transportation type</th>\n",
       "      <th>Transportation cost</th>\n",
       "    </tr>\n",
       "  </thead>\n",
       "  <tbody>\n",
       "    <tr>\n",
       "      <th>0</th>\n",
       "      <td>1</td>\n",
       "      <td>London, UK</td>\n",
       "      <td>2023-05-01</td>\n",
       "      <td>2023-05-08</td>\n",
       "      <td>7.0</td>\n",
       "      <td>John Smith</td>\n",
       "      <td>35.0</td>\n",
       "      <td>Male</td>\n",
       "      <td>American</td>\n",
       "      <td>Hotel</td>\n",
       "      <td>1200</td>\n",
       "      <td>Flight</td>\n",
       "      <td>600</td>\n",
       "    </tr>\n",
       "  </tbody>\n",
       "</table>\n",
       "</div>"
      ],
      "text/plain": [
       "   Trip ID Destination Start date   End date  Duration (days) Traveler name  \\\n",
       "0        1  London, UK 2023-05-01 2023-05-08              7.0    John Smith   \n",
       "\n",
       "   Traveler age Traveler gender Traveler nationality Accommodation type  \\\n",
       "0          35.0            Male             American              Hotel   \n",
       "\n",
       "   Accommodation cost Transportation type  Transportation cost  \n",
       "0                1200              Flight                  600  "
      ]
     },
     "execution_count": 23,
     "metadata": {},
     "output_type": "execute_result"
    }
   ],
   "source": [
    "df.head(1)"
   ]
  },
  {
   "cell_type": "code",
   "execution_count": 24,
   "id": "98917b79-d8b5-450e-a480-a85c931e15a4",
   "metadata": {},
   "outputs": [
    {
     "data": {
      "text/plain": [
       "0          [London,  UK]\n",
       "1    [Phuket,  Thailand]\n",
       "2     [Bali,  Indonesia]\n",
       "3       [New York,  USA]\n",
       "4        [Tokyo,  Japan]\n",
       "Name: Destination, dtype: object"
      ]
     },
     "execution_count": 24,
     "metadata": {},
     "output_type": "execute_result"
    }
   ],
   "source": [
    "df['Destination'].str.split(',')[:5]"
   ]
  },
  {
   "cell_type": "code",
   "execution_count": 25,
   "id": "d4b20a2a-8621-4646-92b7-fa7d6f6a5e00",
   "metadata": {},
   "outputs": [],
   "source": [
    "df['Destination_city'] = df['Destination'].str.split(',').str[0]\n",
    "df['Destination_country'] = df['Destination'].str.split(',').str[1]"
   ]
  },
  {
   "cell_type": "code",
   "execution_count": 26,
   "id": "8c7d2f1f-df4e-4609-adb7-709b040da720",
   "metadata": {},
   "outputs": [],
   "source": [
    "#dropping the destination column as it is no longer needed \n",
    "\n",
    "df.drop('Destination' , axis = 1 , inplace = True)"
   ]
  },
  {
   "cell_type": "code",
   "execution_count": 27,
   "id": "f6ed1b9c-e07d-418e-bb2a-552c749628b6",
   "metadata": {},
   "outputs": [
    {
     "data": {
      "text/html": [
       "<div>\n",
       "<style scoped>\n",
       "    .dataframe tbody tr th:only-of-type {\n",
       "        vertical-align: middle;\n",
       "    }\n",
       "\n",
       "    .dataframe tbody tr th {\n",
       "        vertical-align: top;\n",
       "    }\n",
       "\n",
       "    .dataframe thead th {\n",
       "        text-align: right;\n",
       "    }\n",
       "</style>\n",
       "<table border=\"1\" class=\"dataframe\">\n",
       "  <thead>\n",
       "    <tr style=\"text-align: right;\">\n",
       "      <th></th>\n",
       "      <th>Trip ID</th>\n",
       "      <th>Start date</th>\n",
       "      <th>End date</th>\n",
       "      <th>Duration (days)</th>\n",
       "      <th>Traveler name</th>\n",
       "      <th>Traveler age</th>\n",
       "      <th>Traveler gender</th>\n",
       "      <th>Traveler nationality</th>\n",
       "      <th>Accommodation type</th>\n",
       "      <th>Accommodation cost</th>\n",
       "      <th>Transportation type</th>\n",
       "      <th>Transportation cost</th>\n",
       "      <th>Destination_city</th>\n",
       "      <th>Destination_country</th>\n",
       "    </tr>\n",
       "  </thead>\n",
       "  <tbody>\n",
       "    <tr>\n",
       "      <th>0</th>\n",
       "      <td>1</td>\n",
       "      <td>2023-05-01</td>\n",
       "      <td>2023-05-08</td>\n",
       "      <td>7.0</td>\n",
       "      <td>John Smith</td>\n",
       "      <td>35.0</td>\n",
       "      <td>Male</td>\n",
       "      <td>American</td>\n",
       "      <td>Hotel</td>\n",
       "      <td>1200</td>\n",
       "      <td>Flight</td>\n",
       "      <td>600</td>\n",
       "      <td>London</td>\n",
       "      <td>UK</td>\n",
       "    </tr>\n",
       "  </tbody>\n",
       "</table>\n",
       "</div>"
      ],
      "text/plain": [
       "   Trip ID Start date   End date  Duration (days) Traveler name  Traveler age  \\\n",
       "0        1 2023-05-01 2023-05-08              7.0    John Smith          35.0   \n",
       "\n",
       "  Traveler gender Traveler nationality Accommodation type  Accommodation cost  \\\n",
       "0            Male             American              Hotel                1200   \n",
       "\n",
       "  Transportation type  Transportation cost Destination_city  \\\n",
       "0              Flight                  600           London   \n",
       "\n",
       "  Destination_country  \n",
       "0                  UK  "
      ]
     },
     "execution_count": 27,
     "metadata": {},
     "output_type": "execute_result"
    }
   ],
   "source": [
    "df.head(1)"
   ]
  },
  {
   "cell_type": "markdown",
   "id": "6924e874-3289-4887-94b9-8c4f538f6c7e",
   "metadata": {},
   "source": [
    ">3.2 SPLITTING THE START DATE & END DATE COLUMN TO DAY , MONTH & YEAR . ( FOR MORE DETAILED ANALYSIS )"
   ]
  },
  {
   "cell_type": "code",
   "execution_count": 28,
   "id": "0c8229b9-3275-49c2-8180-67993109d053",
   "metadata": {},
   "outputs": [],
   "source": [
    "df['Start day'] = df['Start date'].dt.day\n",
    "df['Start month'] = df['Start date'].dt.month\n",
    "df['Start year'] = df['Start date'].dt.year"
   ]
  },
  {
   "cell_type": "code",
   "execution_count": 29,
   "id": "27821080-92e0-4113-9523-7ed980e4566a",
   "metadata": {},
   "outputs": [],
   "source": [
    "df['End day'] = df['End date'].dt.day\n",
    "df['End month'] = df['End date'].dt.month\n",
    "df['End year'] = df['End date'].dt.year"
   ]
  },
  {
   "cell_type": "code",
   "execution_count": 30,
   "id": "0430fffa-6fa1-433f-af85-c0f2e5ade849",
   "metadata": {},
   "outputs": [
    {
     "data": {
      "text/html": [
       "<div>\n",
       "<style scoped>\n",
       "    .dataframe tbody tr th:only-of-type {\n",
       "        vertical-align: middle;\n",
       "    }\n",
       "\n",
       "    .dataframe tbody tr th {\n",
       "        vertical-align: top;\n",
       "    }\n",
       "\n",
       "    .dataframe thead th {\n",
       "        text-align: right;\n",
       "    }\n",
       "</style>\n",
       "<table border=\"1\" class=\"dataframe\">\n",
       "  <thead>\n",
       "    <tr style=\"text-align: right;\">\n",
       "      <th></th>\n",
       "      <th>Trip ID</th>\n",
       "      <th>Start date</th>\n",
       "      <th>End date</th>\n",
       "      <th>Duration (days)</th>\n",
       "      <th>Traveler name</th>\n",
       "      <th>Traveler age</th>\n",
       "      <th>Traveler gender</th>\n",
       "      <th>Traveler nationality</th>\n",
       "      <th>Accommodation type</th>\n",
       "      <th>Accommodation cost</th>\n",
       "      <th>Transportation type</th>\n",
       "      <th>Transportation cost</th>\n",
       "      <th>Destination_city</th>\n",
       "      <th>Destination_country</th>\n",
       "      <th>Start day</th>\n",
       "      <th>Start month</th>\n",
       "      <th>Start year</th>\n",
       "      <th>End day</th>\n",
       "      <th>End month</th>\n",
       "      <th>End year</th>\n",
       "    </tr>\n",
       "  </thead>\n",
       "  <tbody>\n",
       "    <tr>\n",
       "      <th>0</th>\n",
       "      <td>1</td>\n",
       "      <td>2023-05-01</td>\n",
       "      <td>2023-05-08</td>\n",
       "      <td>7.0</td>\n",
       "      <td>John Smith</td>\n",
       "      <td>35.0</td>\n",
       "      <td>Male</td>\n",
       "      <td>American</td>\n",
       "      <td>Hotel</td>\n",
       "      <td>1200</td>\n",
       "      <td>Flight</td>\n",
       "      <td>600</td>\n",
       "      <td>London</td>\n",
       "      <td>UK</td>\n",
       "      <td>1</td>\n",
       "      <td>5</td>\n",
       "      <td>2023</td>\n",
       "      <td>8</td>\n",
       "      <td>5</td>\n",
       "      <td>2023</td>\n",
       "    </tr>\n",
       "  </tbody>\n",
       "</table>\n",
       "</div>"
      ],
      "text/plain": [
       "   Trip ID Start date   End date  Duration (days) Traveler name  Traveler age  \\\n",
       "0        1 2023-05-01 2023-05-08              7.0    John Smith          35.0   \n",
       "\n",
       "  Traveler gender Traveler nationality Accommodation type  Accommodation cost  \\\n",
       "0            Male             American              Hotel                1200   \n",
       "\n",
       "  Transportation type  Transportation cost Destination_city  \\\n",
       "0              Flight                  600           London   \n",
       "\n",
       "  Destination_country  Start day  Start month  Start year  End day  End month  \\\n",
       "0                  UK          1            5        2023        8          5   \n",
       "\n",
       "   End year  \n",
       "0      2023  "
      ]
     },
     "execution_count": 30,
     "metadata": {},
     "output_type": "execute_result"
    }
   ],
   "source": [
    "df.head(1)"
   ]
  },
  {
   "cell_type": "code",
   "execution_count": 31,
   "id": "96cf570a-a122-4434-8e55-eb7a5f686d1d",
   "metadata": {},
   "outputs": [],
   "source": [
    "#dropping 'start date' & 'end date' columns as it is no longer needed \n",
    "\n",
    "df.drop('Start date' , axis = 1 , inplace = True)\n",
    "df.drop('End date' , axis = 1 ,  inplace = True)"
   ]
  },
  {
   "cell_type": "code",
   "execution_count": 32,
   "id": "08ede9a6-2efb-4cb9-ada4-4161cd0053b3",
   "metadata": {},
   "outputs": [
    {
     "data": {
      "text/html": [
       "<div>\n",
       "<style scoped>\n",
       "    .dataframe tbody tr th:only-of-type {\n",
       "        vertical-align: middle;\n",
       "    }\n",
       "\n",
       "    .dataframe tbody tr th {\n",
       "        vertical-align: top;\n",
       "    }\n",
       "\n",
       "    .dataframe thead th {\n",
       "        text-align: right;\n",
       "    }\n",
       "</style>\n",
       "<table border=\"1\" class=\"dataframe\">\n",
       "  <thead>\n",
       "    <tr style=\"text-align: right;\">\n",
       "      <th></th>\n",
       "      <th>Trip ID</th>\n",
       "      <th>Duration (days)</th>\n",
       "      <th>Traveler name</th>\n",
       "      <th>Traveler age</th>\n",
       "      <th>Traveler gender</th>\n",
       "      <th>Traveler nationality</th>\n",
       "      <th>Accommodation type</th>\n",
       "      <th>Accommodation cost</th>\n",
       "      <th>Transportation type</th>\n",
       "      <th>Transportation cost</th>\n",
       "      <th>Destination_city</th>\n",
       "      <th>Destination_country</th>\n",
       "      <th>Start day</th>\n",
       "      <th>Start month</th>\n",
       "      <th>Start year</th>\n",
       "      <th>End day</th>\n",
       "      <th>End month</th>\n",
       "      <th>End year</th>\n",
       "    </tr>\n",
       "  </thead>\n",
       "  <tbody>\n",
       "    <tr>\n",
       "      <th>0</th>\n",
       "      <td>1</td>\n",
       "      <td>7.0</td>\n",
       "      <td>John Smith</td>\n",
       "      <td>35.0</td>\n",
       "      <td>Male</td>\n",
       "      <td>American</td>\n",
       "      <td>Hotel</td>\n",
       "      <td>1200</td>\n",
       "      <td>Flight</td>\n",
       "      <td>600</td>\n",
       "      <td>London</td>\n",
       "      <td>UK</td>\n",
       "      <td>1</td>\n",
       "      <td>5</td>\n",
       "      <td>2023</td>\n",
       "      <td>8</td>\n",
       "      <td>5</td>\n",
       "      <td>2023</td>\n",
       "    </tr>\n",
       "  </tbody>\n",
       "</table>\n",
       "</div>"
      ],
      "text/plain": [
       "   Trip ID  Duration (days) Traveler name  Traveler age Traveler gender  \\\n",
       "0        1              7.0    John Smith          35.0            Male   \n",
       "\n",
       "  Traveler nationality Accommodation type  Accommodation cost  \\\n",
       "0             American              Hotel                1200   \n",
       "\n",
       "  Transportation type  Transportation cost Destination_city  \\\n",
       "0              Flight                  600           London   \n",
       "\n",
       "  Destination_country  Start day  Start month  Start year  End day  End month  \\\n",
       "0                  UK          1            5        2023        8          5   \n",
       "\n",
       "   End year  \n",
       "0      2023  "
      ]
     },
     "execution_count": 32,
     "metadata": {},
     "output_type": "execute_result"
    }
   ],
   "source": [
    "df.head(1)"
   ]
  },
  {
   "cell_type": "markdown",
   "id": "a02a18b8-0e9b-4a27-998d-4900d56d037e",
   "metadata": {},
   "source": [
    ">> 4. EXPLORATORY DATA ANALYSIS"
   ]
  },
  {
   "cell_type": "code",
   "execution_count": 33,
   "id": "3b056ddd-b0e7-4214-a7f0-f863a9bb298b",
   "metadata": {},
   "outputs": [
    {
     "data": {
      "text/html": [
       "<div>\n",
       "<style scoped>\n",
       "    .dataframe tbody tr th:only-of-type {\n",
       "        vertical-align: middle;\n",
       "    }\n",
       "\n",
       "    .dataframe tbody tr th {\n",
       "        vertical-align: top;\n",
       "    }\n",
       "\n",
       "    .dataframe thead th {\n",
       "        text-align: right;\n",
       "    }\n",
       "</style>\n",
       "<table border=\"1\" class=\"dataframe\">\n",
       "  <thead>\n",
       "    <tr style=\"text-align: right;\">\n",
       "      <th></th>\n",
       "      <th>Trip ID</th>\n",
       "      <th>Duration (days)</th>\n",
       "      <th>Traveler name</th>\n",
       "      <th>Traveler age</th>\n",
       "      <th>Traveler gender</th>\n",
       "      <th>Traveler nationality</th>\n",
       "      <th>Accommodation type</th>\n",
       "      <th>Accommodation cost</th>\n",
       "      <th>Transportation type</th>\n",
       "      <th>Transportation cost</th>\n",
       "      <th>Destination_city</th>\n",
       "      <th>Destination_country</th>\n",
       "      <th>Start day</th>\n",
       "      <th>Start month</th>\n",
       "      <th>Start year</th>\n",
       "      <th>End day</th>\n",
       "      <th>End month</th>\n",
       "      <th>End year</th>\n",
       "    </tr>\n",
       "  </thead>\n",
       "  <tbody>\n",
       "    <tr>\n",
       "      <th>0</th>\n",
       "      <td>1</td>\n",
       "      <td>7.0</td>\n",
       "      <td>John Smith</td>\n",
       "      <td>35.0</td>\n",
       "      <td>Male</td>\n",
       "      <td>American</td>\n",
       "      <td>Hotel</td>\n",
       "      <td>1200</td>\n",
       "      <td>Flight</td>\n",
       "      <td>600</td>\n",
       "      <td>London</td>\n",
       "      <td>UK</td>\n",
       "      <td>1</td>\n",
       "      <td>5</td>\n",
       "      <td>2023</td>\n",
       "      <td>8</td>\n",
       "      <td>5</td>\n",
       "      <td>2023</td>\n",
       "    </tr>\n",
       "    <tr>\n",
       "      <th>1</th>\n",
       "      <td>2</td>\n",
       "      <td>5.0</td>\n",
       "      <td>Jane Doe</td>\n",
       "      <td>28.0</td>\n",
       "      <td>Female</td>\n",
       "      <td>Canadian</td>\n",
       "      <td>Resort</td>\n",
       "      <td>800</td>\n",
       "      <td>Flight</td>\n",
       "      <td>500</td>\n",
       "      <td>Phuket</td>\n",
       "      <td>Thailand</td>\n",
       "      <td>15</td>\n",
       "      <td>6</td>\n",
       "      <td>2023</td>\n",
       "      <td>20</td>\n",
       "      <td>6</td>\n",
       "      <td>2023</td>\n",
       "    </tr>\n",
       "    <tr>\n",
       "      <th>2</th>\n",
       "      <td>3</td>\n",
       "      <td>7.0</td>\n",
       "      <td>David Lee</td>\n",
       "      <td>45.0</td>\n",
       "      <td>Male</td>\n",
       "      <td>Korean</td>\n",
       "      <td>Villa</td>\n",
       "      <td>1000</td>\n",
       "      <td>Flight</td>\n",
       "      <td>700</td>\n",
       "      <td>Bali</td>\n",
       "      <td>Indonesia</td>\n",
       "      <td>1</td>\n",
       "      <td>7</td>\n",
       "      <td>2023</td>\n",
       "      <td>8</td>\n",
       "      <td>7</td>\n",
       "      <td>2023</td>\n",
       "    </tr>\n",
       "  </tbody>\n",
       "</table>\n",
       "</div>"
      ],
      "text/plain": [
       "   Trip ID  Duration (days) Traveler name  Traveler age Traveler gender  \\\n",
       "0        1              7.0    John Smith          35.0            Male   \n",
       "1        2              5.0      Jane Doe          28.0          Female   \n",
       "2        3              7.0     David Lee          45.0            Male   \n",
       "\n",
       "  Traveler nationality Accommodation type  Accommodation cost  \\\n",
       "0             American              Hotel                1200   \n",
       "1             Canadian             Resort                 800   \n",
       "2               Korean              Villa                1000   \n",
       "\n",
       "  Transportation type  Transportation cost Destination_city  \\\n",
       "0              Flight                  600           London   \n",
       "1              Flight                  500           Phuket   \n",
       "2              Flight                  700             Bali   \n",
       "\n",
       "  Destination_country  Start day  Start month  Start year  End day  End month  \\\n",
       "0                  UK          1            5        2023        8          5   \n",
       "1            Thailand         15            6        2023       20          6   \n",
       "2           Indonesia          1            7        2023        8          7   \n",
       "\n",
       "   End year  \n",
       "0      2023  \n",
       "1      2023  \n",
       "2      2023  "
      ]
     },
     "execution_count": 33,
     "metadata": {},
     "output_type": "execute_result"
    }
   ],
   "source": [
    "df.head(3)"
   ]
  },
  {
   "cell_type": "markdown",
   "id": "b81a3deb-0f1d-4a7e-8eb3-9babea122944",
   "metadata": {},
   "source": [
    "4.1 VISUALIZING THE % OF MALE & FEMALE TRAVELLERS"
   ]
  },
  {
   "cell_type": "code",
   "execution_count": 34,
   "id": "6ff052f5-0ef7-42de-a772-4bb37b1b719f",
   "metadata": {},
   "outputs": [
    {
     "data": {
      "text/plain": [
       "Text(0.5, 1.0, 'NUMBER OF MALE & FEMALE TRAVELLERS')"
      ]
     },
     "execution_count": 34,
     "metadata": {},
     "output_type": "execute_result"
    },
    {
     "data": {
      "image/png": "[encoded data removed]",
      "text/plain": [
       "<Figure size 640x480 with 1 Axes>"
      ]
     },
     "metadata": {},
     "output_type": "display_data"
    }
   ],
   "source": [
    "df['Traveler gender'].value_counts().plot(kind = 'pie' , autopct = '%1.2f%%' , explode = (0.1 , 0) , colors = ['purple' , 'red'])\n",
    "plt.title('NUMBER OF MALE & FEMALE TRAVELLERS')"
   ]
  },
  {
   "cell_type": "markdown",
   "id": "26628931-1918-4aa8-8087-fc2d530ce0e9",
   "metadata": {},
   "source": [
    "4.2 FINDING THE NUMBER OF TRAVELLERS FROM EACH COUNTRY "
   ]
  },
  {
   "cell_type": "code",
   "execution_count": 35,
   "id": "0fde4520-8b14-4b77-b7d8-bd58578406d8",
   "metadata": {},
   "outputs": [
    {
     "data": {
      "text/plain": [
       "<Axes: >"
      ]
     },
     "execution_count": 35,
     "metadata": {},
     "output_type": "execute_result"
    },
    {
     "data": {
      "image/png": "[encoded data removed]",
      "text/plain": [
       "<Figure size 640x480 with 1 Axes>"
      ]
     },
     "metadata": {},
     "output_type": "display_data"
    }
   ],
   "source": [
    "df['Traveler nationality'].value_counts().sort_values(ascending = False)[:10].plot.barh( color = 'red')"
   ]
  },
  {
   "cell_type": "markdown",
   "id": "faed5d06-6c96-4afe-ba64-225ca595f050",
   "metadata": {},
   "source": [
    "4.3 LIST OF ALL THE ACCOMODATION AND TRANSPORTATION TYPE USED BY THE TRAVELLERS"
   ]
  },
  {
   "cell_type": "code",
   "execution_count": 36,
   "id": "65d81147-d101-4fe7-b0d7-a81991a2ee89",
   "metadata": {},
   "outputs": [
    {
     "data": {
      "text/plain": [
       "array(['Hotel', 'Resort', 'Villa', 'Airbnb', 'Hostel', 'Riad',\n",
       "       'Vacation rental', 'Guesthouse'], dtype=object)"
      ]
     },
     "execution_count": 36,
     "metadata": {},
     "output_type": "execute_result"
    }
   ],
   "source": [
    "accommodation_type = np.array(df['Accommodation type'].unique())\n",
    "accommodation_type"
   ]
  },
  {
   "cell_type": "code",
   "execution_count": 37,
   "id": "cd6a4bbf-b301-4229-ad1f-831147ba1495",
   "metadata": {},
   "outputs": [
    {
     "data": {
      "text/plain": [
       "array(['Flight', 'Train', 'Plane', 'Bus', 'Car rental', 'Subway', 'Car',\n",
       "       'Ferry', 'Airplane'], dtype=object)"
      ]
     },
     "execution_count": 37,
     "metadata": {},
     "output_type": "execute_result"
    }
   ],
   "source": [
    "transportation_type = np.array(df['Transportation type'].unique())\n",
    "transportation_type"
   ]
  },
  {
   "cell_type": "markdown",
   "id": "ad01626b-cb35-4855-bdad-5af07ffecc92",
   "metadata": {},
   "source": [
    "4.3 FINDING OUT WHICH DESTINATION COUNTRY & CITY HAD MOST NUMBER OF TRAVELLERS "
   ]
  },
  {
   "cell_type": "code",
   "execution_count": 38,
   "id": "0d096b52-7d6e-4486-94c6-0575ffb14ddc",
   "metadata": {},
   "outputs": [
    {
     "data": {
      "text/plain": [
       "<Axes: >"
      ]
     },
     "execution_count": 38,
     "metadata": {},
     "output_type": "execute_result"
    },
    {
     "data": {
      "image/png": "[encoded data removed]",
      "text/plain": [
       "<Figure size 640x480 with 1 Axes>"
      ]
     },
     "metadata": {},
     "output_type": "display_data"
    }
   ],
   "source": [
    "df['Destination_country'].value_counts().sort_values(ascending = False)[:10].plot.bar(color = 'green')"
   ]
  },
  {
   "cell_type": "code",
   "execution_count": 39,
   "id": "b2d6a322-a0a6-49fb-b02f-ac51715808fd",
   "metadata": {
    "tags": []
   },
   "outputs": [
    {
     "data": {
      "text/plain": [
       "<Axes: >"
      ]
     },
     "execution_count": 39,
     "metadata": {},
     "output_type": "execute_result"
    },
    {
     "data": {
      "image/png": "[encoded data removed]",
      "text/plain": [
       "<Figure size 640x480 with 1 Axes>"
      ]
     },
     "metadata": {},
     "output_type": "display_data"
    }
   ],
   "source": [
    "#FINDING  WHICH  CITY  HAD  THE  MOST  TRAVELLERS \n",
    "\n",
    "df['Destination_city'].value_counts().sort_values(ascending = False)[:10].plot.bar(color = 'grey')"
   ]
  },
  {
   "cell_type": "markdown",
   "id": "526f69fb-e7ff-4794-bd97-988a53a28d82",
   "metadata": {},
   "source": [
    "4.4 WHICH ACCOMODATION WAS MOST PREFERRED BY MALE & FEMALE"
   ]
  },
  {
   "cell_type": "code",
   "execution_count": 40,
   "id": "a1e02f11-2290-4028-9cf0-e48961db2ae9",
   "metadata": {},
   "outputs": [
    {
     "data": {
      "text/plain": [
       "Accommodation type\n",
       "Hotel              30\n",
       "Airbnb             18\n",
       "Hostel              9\n",
       "Resort              9\n",
       "Vacation rental     2\n",
       "Riad                1\n",
       "Villa               1\n",
       "dtype: int64"
      ]
     },
     "execution_count": 40,
     "metadata": {},
     "output_type": "execute_result"
    }
   ],
   "source": [
    "df[df['Traveler gender'] == 'Female'].groupby('Accommodation type').size().sort_values(ascending = False)"
   ]
  },
  {
   "cell_type": "code",
   "execution_count": 41,
   "id": "2f473c40-c7e7-4e3d-a238-d2c7a201df97",
   "metadata": {},
   "outputs": [
    {
     "data": {
      "text/plain": [
       "Accommodation type\n",
       "Hotel              29\n",
       "Hostel             15\n",
       "Airbnb             12\n",
       "Resort              5\n",
       "Villa               3\n",
       "Guesthouse          1\n",
       "Vacation rental     1\n",
       "dtype: int64"
      ]
     },
     "execution_count": 41,
     "metadata": {},
     "output_type": "execute_result"
    }
   ],
   "source": [
    "df[df['Traveler gender'] == 'Male'].groupby('Accommodation type').size().sort_values(ascending = False)"
   ]
  },
  {
   "cell_type": "markdown",
   "id": "dece397e-4975-4b27-8795-dabf84cdd250",
   "metadata": {},
   "source": [
    "4.5 WHICH TRANSPORTATION WAS WIDELY USED ? "
   ]
  },
  {
   "cell_type": "code",
   "execution_count": 42,
   "id": "483a52a8-cfcd-4817-b14f-4e506c848aaf",
   "metadata": {},
   "outputs": [
    {
     "data": {
      "text/plain": [
       "array(['Flight', 'Train', 'Plane', 'Bus', 'Car rental', 'Subway', 'Car',\n",
       "       'Ferry', 'Airplane'], dtype=object)"
      ]
     },
     "execution_count": 42,
     "metadata": {},
     "output_type": "execute_result"
    }
   ],
   "source": [
    "arr = df['Transportation type'].unique()\n",
    "arr"
   ]
  },
  {
   "cell_type": "code",
   "execution_count": 43,
   "id": "5a243043-6df4-429d-a3cd-9c0d5f33d892",
   "metadata": {},
   "outputs": [
    {
     "data": {
      "text/plain": [
       "<Axes: ylabel='Transportation type'>"
      ]
     },
     "execution_count": 43,
     "metadata": {},
     "output_type": "execute_result"
    },
    {
     "data": {
      "image/png": "[encoded data removed]",
      "text/plain": [
       "<Figure size 640x480 with 1 Axes>"
      ]
     },
     "metadata": {},
     "output_type": "display_data"
    }
   ],
   "source": [
    "df['Transportation type'].value_counts().sort_values(ascending = False)[:5].plot(  kind = 'pie' , autopct = '%1.2f%%' , explode = (0,0.1,0,0.1,0.1))"
   ]
  },
  {
   "cell_type": "markdown",
   "id": "7ea69e34-793d-4007-82ed-7245b28a98fa",
   "metadata": {},
   "source": [
    "4.6 FINDING OUT WHICH YEAR HAD MOST NUMBER OF TRAVELLERS "
   ]
  },
  {
   "cell_type": "code",
   "execution_count": 44,
   "id": "3ae2f6a4-eff5-4a23-9459-f7ca655c6e52",
   "metadata": {},
   "outputs": [
    {
     "data": {
      "text/plain": [
       "<Axes: >"
      ]
     },
     "execution_count": 44,
     "metadata": {},
     "output_type": "execute_result"
    },
    {
     "data": {
      "image/png": "[encoded data removed]",
      "text/plain": [
       "<Figure size 640x480 with 1 Axes>"
      ]
     },
     "metadata": {},
     "output_type": "display_data"
    }
   ],
   "source": [
    "df['Start year'].value_counts().sort_values(ascending = False).plot(kind = 'bar' , color = 'blue')"
   ]
  },
  {
   "cell_type": "markdown",
   "id": "2601c1ed-4c4c-49c5-91b9-24f350e8ca56",
   "metadata": {},
   "source": [
    ">> 5. DATA INSIGHTS & SUMMARY"
   ]
  },
  {
   "cell_type": "markdown",
   "id": "5b21597c-6d8d-4d94-baf6-39d05c42ff87",
   "metadata": {},
   "source": [
    "1. 51% PERCENT OF TRAVELLERS ARE FEMALE & 49% ARE MALE TRAVELLERS \n",
    "2. AMERICAN CITIZENS HAVE TRAVELLED THE MOST , FOLLOWED BY KOREANS AND BRITISH \n",
    "3. MOST VISITED COUNTRY IS JAPAN & FRANCE . MOST VISITED CITY IS PARIS .\n",
    "4. FEMALE TRAVELLERS PREFERRED TO STAY IN HOTEL & AIRBNB THE MOST .\n",
    "5. FLIGHTS & TRAINS ARE THE WIDELY USED MEANS OF TRANSPORT.\n",
    "6. YEAR 2023 HAD THE MOST NUMBER OF TRAVELLLERS ."
   ]
  }
 ],
 "metadata": {
  "kernelspec": {
   "display_name": "default:Python",
   "language": "python",
   "name": "conda-env-default-py"
  },
  "language_info": {
   "codemirror_mode": {
    "name": "ipython",
    "version": 3
   },
   "file_extension": ".py",
   "mimetype": "text/x-python",
   "name": "python",
   "nbconvert_exporter": "python",
   "pygments_lexer": "ipython3",
   "version": "3.9.13"
  }
 },
 "nbformat": 4,
 "nbformat_minor": 5
}
